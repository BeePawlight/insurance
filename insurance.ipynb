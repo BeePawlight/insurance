{
 "cells": [
  {
   "cell_type": "markdown",
   "id": "b2fedec9",
   "metadata": {},
   "source": [
    "# Защита персональных данных клиентов"
   ]
  },
  {
   "cell_type": "markdown",
   "id": "888a923a",
   "metadata": {},
   "source": [
    "Вам нужно защитить данные клиентов страховой компании «Хоть потоп». Разработайте такой метод преобразования данных, чтобы по ним было сложно восстановить персональную информацию. Обоснуйте корректность его работы.\n",
    "\n",
    "Нужно защитить данные, чтобы при преобразовании качество моделей машинного обучения не ухудшилось. Подбирать наилучшую модель не требуется."
   ]
  },
  {
   "cell_type": "markdown",
   "id": "ce421e37",
   "metadata": {},
   "source": [
    "## Загрузка данных"
   ]
  },
  {
   "cell_type": "code",
   "execution_count": 1,
   "id": "d23d6d0c",
   "metadata": {},
   "outputs": [],
   "source": [
    "import pandas as pd\n",
    "import seaborn as sns\n",
    "import warnings\n",
    "warnings.filterwarnings('ignore')\n",
    "import matplotlib.pyplot as plt\n",
    "import numpy as np\n",
    "from sklearn.model_selection import train_test_split\n",
    "from sklearn.linear_model import LinearRegression\n",
    "from sklearn.metrics import r2_score"
   ]
  },
  {
   "cell_type": "markdown",
   "id": "cf560f8b",
   "metadata": {},
   "source": [
    "### Изучение данных"
   ]
  },
  {
   "cell_type": "code",
   "execution_count": 2,
   "id": "f3043454",
   "metadata": {},
   "outputs": [],
   "source": [
    "data = pd.read_csv('/datasets/insurance.csv')"
   ]
  },
  {
   "cell_type": "code",
   "execution_count": 3,
   "id": "2483772e",
   "metadata": {},
   "outputs": [
    {
     "data": {
      "text/html": [
       "<div>\n",
       "<style scoped>\n",
       "    .dataframe tbody tr th:only-of-type {\n",
       "        vertical-align: middle;\n",
       "    }\n",
       "\n",
       "    .dataframe tbody tr th {\n",
       "        vertical-align: top;\n",
       "    }\n",
       "\n",
       "    .dataframe thead th {\n",
       "        text-align: right;\n",
       "    }\n",
       "</style>\n",
       "<table border=\"1\" class=\"dataframe\">\n",
       "  <thead>\n",
       "    <tr style=\"text-align: right;\">\n",
       "      <th></th>\n",
       "      <th>Пол</th>\n",
       "      <th>Возраст</th>\n",
       "      <th>Зарплата</th>\n",
       "      <th>Члены семьи</th>\n",
       "      <th>Страховые выплаты</th>\n",
       "    </tr>\n",
       "  </thead>\n",
       "  <tbody>\n",
       "    <tr>\n",
       "      <th>0</th>\n",
       "      <td>1</td>\n",
       "      <td>41.0</td>\n",
       "      <td>49600.0</td>\n",
       "      <td>1</td>\n",
       "      <td>0</td>\n",
       "    </tr>\n",
       "    <tr>\n",
       "      <th>1</th>\n",
       "      <td>0</td>\n",
       "      <td>46.0</td>\n",
       "      <td>38000.0</td>\n",
       "      <td>1</td>\n",
       "      <td>1</td>\n",
       "    </tr>\n",
       "    <tr>\n",
       "      <th>2</th>\n",
       "      <td>0</td>\n",
       "      <td>29.0</td>\n",
       "      <td>21000.0</td>\n",
       "      <td>0</td>\n",
       "      <td>0</td>\n",
       "    </tr>\n",
       "    <tr>\n",
       "      <th>3</th>\n",
       "      <td>0</td>\n",
       "      <td>21.0</td>\n",
       "      <td>41700.0</td>\n",
       "      <td>2</td>\n",
       "      <td>0</td>\n",
       "    </tr>\n",
       "    <tr>\n",
       "      <th>4</th>\n",
       "      <td>1</td>\n",
       "      <td>28.0</td>\n",
       "      <td>26100.0</td>\n",
       "      <td>0</td>\n",
       "      <td>0</td>\n",
       "    </tr>\n",
       "  </tbody>\n",
       "</table>\n",
       "</div>"
      ],
      "text/plain": [
       "   Пол  Возраст  Зарплата  Члены семьи  Страховые выплаты\n",
       "0    1     41.0   49600.0            1                  0\n",
       "1    0     46.0   38000.0            1                  1\n",
       "2    0     29.0   21000.0            0                  0\n",
       "3    0     21.0   41700.0            2                  0\n",
       "4    1     28.0   26100.0            0                  0"
      ]
     },
     "execution_count": 3,
     "metadata": {},
     "output_type": "execute_result"
    }
   ],
   "source": [
    "data.head()"
   ]
  },
  {
   "cell_type": "code",
   "execution_count": 4,
   "id": "98690080",
   "metadata": {},
   "outputs": [
    {
     "data": {
      "text/plain": [
       "(5000, 5)"
      ]
     },
     "execution_count": 4,
     "metadata": {},
     "output_type": "execute_result"
    }
   ],
   "source": [
    "data.shape"
   ]
  },
  {
   "cell_type": "code",
   "execution_count": 5,
   "id": "460d0f5a",
   "metadata": {},
   "outputs": [
    {
     "name": "stdout",
     "output_type": "stream",
     "text": [
      "<class 'pandas.core.frame.DataFrame'>\n",
      "RangeIndex: 5000 entries, 0 to 4999\n",
      "Data columns (total 5 columns):\n",
      " #   Column             Non-Null Count  Dtype  \n",
      "---  ------             --------------  -----  \n",
      " 0   Пол                5000 non-null   int64  \n",
      " 1   Возраст            5000 non-null   float64\n",
      " 2   Зарплата           5000 non-null   float64\n",
      " 3   Члены семьи        5000 non-null   int64  \n",
      " 4   Страховые выплаты  5000 non-null   int64  \n",
      "dtypes: float64(2), int64(3)\n",
      "memory usage: 195.4 KB\n"
     ]
    }
   ],
   "source": [
    "data.info()"
   ]
  },
  {
   "cell_type": "code",
   "execution_count": 6,
   "id": "4fc1e5dd",
   "metadata": {},
   "outputs": [
    {
     "data": {
      "text/html": [
       "<div>\n",
       "<style scoped>\n",
       "    .dataframe tbody tr th:only-of-type {\n",
       "        vertical-align: middle;\n",
       "    }\n",
       "\n",
       "    .dataframe tbody tr th {\n",
       "        vertical-align: top;\n",
       "    }\n",
       "\n",
       "    .dataframe thead th {\n",
       "        text-align: right;\n",
       "    }\n",
       "</style>\n",
       "<table border=\"1\" class=\"dataframe\">\n",
       "  <thead>\n",
       "    <tr style=\"text-align: right;\">\n",
       "      <th></th>\n",
       "      <th>Пол</th>\n",
       "      <th>Возраст</th>\n",
       "      <th>Зарплата</th>\n",
       "      <th>Члены семьи</th>\n",
       "      <th>Страховые выплаты</th>\n",
       "    </tr>\n",
       "  </thead>\n",
       "  <tbody>\n",
       "    <tr>\n",
       "      <th>count</th>\n",
       "      <td>5000.000000</td>\n",
       "      <td>5000.000000</td>\n",
       "      <td>5000.000000</td>\n",
       "      <td>5000.000000</td>\n",
       "      <td>5000.000000</td>\n",
       "    </tr>\n",
       "    <tr>\n",
       "      <th>mean</th>\n",
       "      <td>0.499000</td>\n",
       "      <td>30.952800</td>\n",
       "      <td>39916.360000</td>\n",
       "      <td>1.194200</td>\n",
       "      <td>0.148000</td>\n",
       "    </tr>\n",
       "    <tr>\n",
       "      <th>std</th>\n",
       "      <td>0.500049</td>\n",
       "      <td>8.440807</td>\n",
       "      <td>9900.083569</td>\n",
       "      <td>1.091387</td>\n",
       "      <td>0.463183</td>\n",
       "    </tr>\n",
       "    <tr>\n",
       "      <th>min</th>\n",
       "      <td>0.000000</td>\n",
       "      <td>18.000000</td>\n",
       "      <td>5300.000000</td>\n",
       "      <td>0.000000</td>\n",
       "      <td>0.000000</td>\n",
       "    </tr>\n",
       "    <tr>\n",
       "      <th>25%</th>\n",
       "      <td>0.000000</td>\n",
       "      <td>24.000000</td>\n",
       "      <td>33300.000000</td>\n",
       "      <td>0.000000</td>\n",
       "      <td>0.000000</td>\n",
       "    </tr>\n",
       "    <tr>\n",
       "      <th>50%</th>\n",
       "      <td>0.000000</td>\n",
       "      <td>30.000000</td>\n",
       "      <td>40200.000000</td>\n",
       "      <td>1.000000</td>\n",
       "      <td>0.000000</td>\n",
       "    </tr>\n",
       "    <tr>\n",
       "      <th>75%</th>\n",
       "      <td>1.000000</td>\n",
       "      <td>37.000000</td>\n",
       "      <td>46600.000000</td>\n",
       "      <td>2.000000</td>\n",
       "      <td>0.000000</td>\n",
       "    </tr>\n",
       "    <tr>\n",
       "      <th>max</th>\n",
       "      <td>1.000000</td>\n",
       "      <td>65.000000</td>\n",
       "      <td>79000.000000</td>\n",
       "      <td>6.000000</td>\n",
       "      <td>5.000000</td>\n",
       "    </tr>\n",
       "  </tbody>\n",
       "</table>\n",
       "</div>"
      ],
      "text/plain": [
       "               Пол      Возраст      Зарплата  Члены семьи  Страховые выплаты\n",
       "count  5000.000000  5000.000000   5000.000000  5000.000000        5000.000000\n",
       "mean      0.499000    30.952800  39916.360000     1.194200           0.148000\n",
       "std       0.500049     8.440807   9900.083569     1.091387           0.463183\n",
       "min       0.000000    18.000000   5300.000000     0.000000           0.000000\n",
       "25%       0.000000    24.000000  33300.000000     0.000000           0.000000\n",
       "50%       0.000000    30.000000  40200.000000     1.000000           0.000000\n",
       "75%       1.000000    37.000000  46600.000000     2.000000           0.000000\n",
       "max       1.000000    65.000000  79000.000000     6.000000           5.000000"
      ]
     },
     "execution_count": 6,
     "metadata": {},
     "output_type": "execute_result"
    }
   ],
   "source": [
    "data.describe()"
   ]
  },
  {
   "cell_type": "code",
   "execution_count": 7,
   "id": "ec4008a9",
   "metadata": {},
   "outputs": [
    {
     "data": {
      "text/plain": [
       "Пол                  0\n",
       "Возраст              0\n",
       "Зарплата             0\n",
       "Члены семьи          0\n",
       "Страховые выплаты    0\n",
       "dtype: int64"
      ]
     },
     "execution_count": 7,
     "metadata": {},
     "output_type": "execute_result"
    }
   ],
   "source": [
    "data.isna().sum()"
   ]
  },
  {
   "cell_type": "code",
   "execution_count": 8,
   "id": "9422c6ad",
   "metadata": {},
   "outputs": [
    {
     "data": {
      "text/plain": [
       "153"
      ]
     },
     "execution_count": 8,
     "metadata": {},
     "output_type": "execute_result"
    }
   ],
   "source": [
    "data.duplicated().sum()"
   ]
  },
  {
   "cell_type": "code",
   "execution_count": 9,
   "id": "4cfda421",
   "metadata": {},
   "outputs": [],
   "source": [
    "data = data.drop_duplicates()"
   ]
  },
  {
   "cell_type": "code",
   "execution_count": 10,
   "id": "fdebe03e",
   "metadata": {},
   "outputs": [
    {
     "data": {
      "text/plain": [
       "(4847, 5)"
      ]
     },
     "execution_count": 10,
     "metadata": {},
     "output_type": "execute_result"
    }
   ],
   "source": [
    "data.shape"
   ]
  },
  {
   "cell_type": "code",
   "execution_count": 11,
   "id": "d82e0650",
   "metadata": {
    "scrolled": false
   },
   "outputs": [
    {
     "data": {
      "image/png": "[encoded data removed]",
      "text/plain": [
       "<Figure size 1080x720 with 2 Axes>"
      ]
     },
     "metadata": {},
     "output_type": "display_data"
    }
   ],
   "source": [
    "sns.set(rc={'figure.figsize':(15,10)})\n",
    "sns.heatmap(data.corr(), annot = True, vmin=-0.05, vmax=1, center=0)\n",
    "plt.show();"
   ]
  },
  {
   "cell_type": "markdown",
   "id": "3d5976e1",
   "metadata": {},
   "source": [
    "**Вывод: пропусков в датасете нет, но присутствовали дубликаты от которых мы избавились. Выбросов в данных не оказалось. После рассмотрения матрицы корреляции, можно сделать вывод о достаточно высокой связи между страховыми выплатами и возрастом клиентов.**"
   ]
  },
  {
   "cell_type": "markdown",
   "id": "16020b8d",
   "metadata": {},
   "source": [
    "## Умножение матриц"
   ]
  },
  {
   "cell_type": "markdown",
   "id": "615bb1ae",
   "metadata": {},
   "source": [
    "В этом задании вы можете записывать формулы в *Jupyter Notebook.*\n",
    "\n",
    "Чтобы записать формулу внутри текста, окружите её символами доллара \\\\$; если снаружи —  двойными символами \\\\$\\\\$. Эти формулы записываются на языке вёрстки *LaTeX.* \n",
    "\n",
    "Для примера мы записали формулы линейной регрессии. Можете их скопировать и отредактировать, чтобы решить задачу.\n",
    "\n",
    "Работать в *LaTeX* необязательно."
   ]
  },
  {
   "cell_type": "markdown",
   "id": "5ee5a457",
   "metadata": {},
   "source": [
    "Обозначения:\n",
    "\n",
    "- $X$ — матрица признаков (нулевой столбец состоит из единиц)\n",
    "\n",
    "- $y$ — вектор целевого признака\n",
    "\n",
    "- $P$ — матрица, на которую умножаются признаки\n",
    "\n",
    "- $w$ — вектор весов линейной регрессии (нулевой элемент равен сдвигу)"
   ]
  },
  {
   "cell_type": "markdown",
   "id": "3afd38c6",
   "metadata": {},
   "source": [
    "Предсказания:\n",
    "\n",
    "$$\n",
    "a = Xw\n",
    "$$\n",
    "\n",
    "Задача обучения:\n",
    "\n",
    "$$\n",
    "w = \\arg\\min_w MSE(Xw, y)\n",
    "$$\n",
    "\n",
    "Формула обучения:\n",
    "\n",
    "$$\n",
    "w = (X^T X)^{-1} X^T y\n",
    "$$"
   ]
  },
  {
   "cell_type": "markdown",
   "id": "481ad9d9",
   "metadata": {},
   "source": [
    "### Выделим признаки и целевые значения"
   ]
  },
  {
   "cell_type": "code",
   "execution_count": 12,
   "id": "23589487",
   "metadata": {},
   "outputs": [],
   "source": [
    "features = data.drop(['Страховые выплаты'], axis=1)\n",
    "target = data['Страховые выплаты']"
   ]
  },
  {
   "cell_type": "markdown",
   "id": "a103a8c1",
   "metadata": {},
   "source": [
    "### Разделим данные на тренировочную и тестовую выборки"
   ]
  },
  {
   "cell_type": "code",
   "execution_count": 13,
   "id": "f423a35b",
   "metadata": {},
   "outputs": [],
   "source": [
    "features_train, features_test, target_train, target_test = train_test_split(\n",
    "    features, target, test_size = 0.25, random_state=123)"
   ]
  },
  {
   "cell_type": "markdown",
   "id": "aa24bd22",
   "metadata": {},
   "source": [
    "**Проверим правильность разбиения**"
   ]
  },
  {
   "cell_type": "code",
   "execution_count": 14,
   "id": "fbd0894d",
   "metadata": {},
   "outputs": [
    {
     "name": "stdout",
     "output_type": "stream",
     "text": [
      "75\n",
      "25\n"
     ]
    }
   ],
   "source": [
    "print(round(((len(features_train)/len(features))*100)))\n",
    "print(round(((len(features_test)/len(features))*100)))"
   ]
  },
  {
   "cell_type": "markdown",
   "id": "690914c1",
   "metadata": {},
   "source": [
    "### Обучим модель линейной регресии"
   ]
  },
  {
   "cell_type": "code",
   "execution_count": 15,
   "id": "8585b0e9",
   "metadata": {},
   "outputs": [
    {
     "name": "stdout",
     "output_type": "stream",
     "text": [
      "Качество модели из sklearn:  0.41\n"
     ]
    }
   ],
   "source": [
    "model = LinearRegression()\n",
    "model.fit(features_train,target_train)\n",
    "predictions = model.predict(features_test)\n",
    "print('Качество модели из sklearn: ', round(r2_score(target_test,predictions),2))"
   ]
  },
  {
   "cell_type": "markdown",
   "id": "05ae0cd1",
   "metadata": {},
   "source": [
    "### Создание рандомной матрицы и её проверка на обратимость"
   ]
  },
  {
   "cell_type": "code",
   "execution_count": 16,
   "id": "978b15a7",
   "metadata": {},
   "outputs": [
    {
     "data": {
      "text/plain": [
       "array([[0.60310313, 0.34909665, 0.02765406, 0.82324486],\n",
       "       [0.30246379, 0.64015623, 0.82904073, 0.20163426],\n",
       "       [0.18355876, 0.01123314, 0.75553789, 0.02757659],\n",
       "       [0.09145013, 0.65564822, 0.68169253, 0.71304698]])"
      ]
     },
     "execution_count": 16,
     "metadata": {},
     "output_type": "execute_result"
    }
   ],
   "source": [
    "matrix = np.random.rand(4,4)\n",
    "matrix"
   ]
  },
  {
   "cell_type": "code",
   "execution_count": 17,
   "id": "98b5d494",
   "metadata": {},
   "outputs": [
    {
     "data": {
      "text/plain": [
       "array([[ 1.26081899,  1.14072456,  0.31767749, -1.7905305 ],\n",
       "       [-0.32262329,  1.84908038, -1.94948926, -0.07500168],\n",
       "       [-0.3175261 , -0.2458122 ,  1.25522492,  0.38756361],\n",
       "       [ 0.43851317, -1.61153101,  0.55178701,  1.33051506]])"
      ]
     },
     "execution_count": 17,
     "metadata": {},
     "output_type": "execute_result"
    }
   ],
   "source": [
    "np.linalg.inv(matrix)"
   ]
  },
  {
   "cell_type": "markdown",
   "id": "b44c17a5",
   "metadata": {},
   "source": [
    "### Умножение признаков на обратимую матрицу (преобразование данных)"
   ]
  },
  {
   "cell_type": "markdown",
   "id": "b7581454",
   "metadata": {},
   "source": [
    "**Признаки тренировочных данных**"
   ]
  },
  {
   "cell_type": "code",
   "execution_count": 18,
   "id": "28fc3768",
   "metadata": {},
   "outputs": [
    {
     "data": {
      "text/html": [
       "<div>\n",
       "<style scoped>\n",
       "    .dataframe tbody tr th:only-of-type {\n",
       "        vertical-align: middle;\n",
       "    }\n",
       "\n",
       "    .dataframe tbody tr th {\n",
       "        vertical-align: top;\n",
       "    }\n",
       "\n",
       "    .dataframe thead th {\n",
       "        text-align: right;\n",
       "    }\n",
       "</style>\n",
       "<table border=\"1\" class=\"dataframe\">\n",
       "  <thead>\n",
       "    <tr style=\"text-align: right;\">\n",
       "      <th></th>\n",
       "      <th>0</th>\n",
       "      <th>1</th>\n",
       "      <th>2</th>\n",
       "      <th>3</th>\n",
       "    </tr>\n",
       "  </thead>\n",
       "  <tbody>\n",
       "    <tr>\n",
       "      <th>4954</th>\n",
       "      <td>5678.106415</td>\n",
       "      <td>360.562789</td>\n",
       "      <td>23363.383441</td>\n",
       "      <td>856.862421</td>\n",
       "    </tr>\n",
       "    <tr>\n",
       "      <th>1992</th>\n",
       "      <td>4268.727442</td>\n",
       "      <td>283.045292</td>\n",
       "      <td>17557.200877</td>\n",
       "      <td>647.856956</td>\n",
       "    </tr>\n",
       "    <tr>\n",
       "      <th>610</th>\n",
       "      <td>6359.480700</td>\n",
       "      <td>406.330932</td>\n",
       "      <td>26163.728201</td>\n",
       "      <td>961.440274</td>\n",
       "    </tr>\n",
       "    <tr>\n",
       "      <th>3674</th>\n",
       "      <td>5451.787768</td>\n",
       "      <td>370.619249</td>\n",
       "      <td>22412.862729</td>\n",
       "      <td>828.986785</td>\n",
       "    </tr>\n",
       "    <tr>\n",
       "      <th>3522</th>\n",
       "      <td>5955.348964</td>\n",
       "      <td>380.977868</td>\n",
       "      <td>24500.715792</td>\n",
       "      <td>900.570137</td>\n",
       "    </tr>\n",
       "  </tbody>\n",
       "</table>\n",
       "</div>"
      ],
      "text/plain": [
       "                0           1             2           3\n",
       "4954  5678.106415  360.562789  23363.383441  856.862421\n",
       "1992  4268.727442  283.045292  17557.200877  647.856956\n",
       "610   6359.480700  406.330932  26163.728201  961.440274\n",
       "3674  5451.787768  370.619249  22412.862729  828.986785\n",
       "3522  5955.348964  380.977868  24500.715792  900.570137"
      ]
     },
     "execution_count": 18,
     "metadata": {},
     "output_type": "execute_result"
    }
   ],
   "source": [
    "features_train_matrix = features_train @ matrix\n",
    "features_train_matrix.head()"
   ]
  },
  {
   "cell_type": "markdown",
   "id": "a478fe14",
   "metadata": {},
   "source": [
    "**Признаки тестовых данных**"
   ]
  },
  {
   "cell_type": "code",
   "execution_count": 19,
   "id": "e8ac9d7b",
   "metadata": {},
   "outputs": [
    {
     "data": {
      "text/html": [
       "<div>\n",
       "<style scoped>\n",
       "    .dataframe tbody tr th:only-of-type {\n",
       "        vertical-align: middle;\n",
       "    }\n",
       "\n",
       "    .dataframe tbody tr th {\n",
       "        vertical-align: top;\n",
       "    }\n",
       "\n",
       "    .dataframe thead th {\n",
       "        text-align: right;\n",
       "    }\n",
       "</style>\n",
       "<table border=\"1\" class=\"dataframe\">\n",
       "  <thead>\n",
       "    <tr style=\"text-align: right;\">\n",
       "      <th></th>\n",
       "      <th>0</th>\n",
       "      <th>1</th>\n",
       "      <th>2</th>\n",
       "      <th>3</th>\n",
       "    </tr>\n",
       "  </thead>\n",
       "  <tbody>\n",
       "    <tr>\n",
       "      <th>1812</th>\n",
       "      <td>8469.316151</td>\n",
       "      <td>532.280273</td>\n",
       "      <td>34848.563478</td>\n",
       "      <td>1276.540083</td>\n",
       "    </tr>\n",
       "    <tr>\n",
       "      <th>193</th>\n",
       "      <td>8010.118611</td>\n",
       "      <td>504.488483</td>\n",
       "      <td>32960.520129</td>\n",
       "      <td>1206.976993</td>\n",
       "    </tr>\n",
       "    <tr>\n",
       "      <th>4495</th>\n",
       "      <td>7885.348494</td>\n",
       "      <td>504.962808</td>\n",
       "      <td>32442.273784</td>\n",
       "      <td>1190.806037</td>\n",
       "    </tr>\n",
       "    <tr>\n",
       "      <th>552</th>\n",
       "      <td>8781.761781</td>\n",
       "      <td>553.603631</td>\n",
       "      <td>36136.119059</td>\n",
       "      <td>1323.914994</td>\n",
       "    </tr>\n",
       "    <tr>\n",
       "      <th>3027</th>\n",
       "      <td>5700.091857</td>\n",
       "      <td>369.367978</td>\n",
       "      <td>23448.885720</td>\n",
       "      <td>862.039691</td>\n",
       "    </tr>\n",
       "  </tbody>\n",
       "</table>\n",
       "</div>"
      ],
      "text/plain": [
       "                0           1             2            3\n",
       "1812  8469.316151  532.280273  34848.563478  1276.540083\n",
       "193   8010.118611  504.488483  32960.520129  1206.976993\n",
       "4495  7885.348494  504.962808  32442.273784  1190.806037\n",
       "552   8781.761781  553.603631  36136.119059  1323.914994\n",
       "3027  5700.091857  369.367978  23448.885720   862.039691"
      ]
     },
     "execution_count": 19,
     "metadata": {},
     "output_type": "execute_result"
    }
   ],
   "source": [
    "features_test_matrix = features_test @ matrix\n",
    "features_test_matrix.head()"
   ]
  },
  {
   "cell_type": "markdown",
   "id": "ff188d1c",
   "metadata": {},
   "source": [
    "### Повторное обучение модели линейной регресии на преобразованных данных"
   ]
  },
  {
   "cell_type": "code",
   "execution_count": 20,
   "id": "33937a21",
   "metadata": {},
   "outputs": [
    {
     "name": "stdout",
     "output_type": "stream",
     "text": [
      "Качество модели после изменения признаков:  0.41\n"
     ]
    }
   ],
   "source": [
    "model = LinearRegression()\n",
    "model.fit(features_train_matrix,target_train)\n",
    "predictions = model.predict(features_test_matrix)\n",
    "print('Качество модели после изменения признаков: ', round(r2_score(target_test,predictions),2))"
   ]
  },
  {
   "cell_type": "markdown",
   "id": "553718ea",
   "metadata": {},
   "source": [
    "$$\n",
    "a = Xw = XEw = XPP^{-1}w = (XP)P^{-1}w = (XP)w'\n",
    "$$\n",
    "\n",
    "$$\n",
    "w' = ((XP)^T XP)^{-1} (XP)^T y\n",
    "$$\n",
    "$$\n",
    "w' = (P^T (X^T X) P)^{-1} (XP)^T y\n",
    "$$\n",
    "$$\n",
    "w' = (P^T (X^T X) P)^{-1} P^TX^T y\n",
    "$$\n",
    "$$\n",
    "w' = ((X^T X) P)^{-1}(P^T)^{-1} P^TX^T y\n",
    "$$\n",
    "$$\n",
    "w' = ((X^T X) P)^{-1}X^T y\n",
    "$$\n",
    "$$\n",
    "w' = P^{-1}(X^T X)^{-1}X^T y\n",
    "$$\n",
    "$$\n",
    "w' = P^{-1}w\n",
    "$$\n",
    "Подставим в равенство\n",
    "$$\n",
    "Xw = XPP^{-1}w\n",
    "$$\n",
    "получаем единичную матрицу\n",
    "$$\n",
    "Xw = Xw\n",
    "$$"
   ]
  },
  {
   "cell_type": "markdown",
   "id": "1df325c5",
   "metadata": {},
   "source": [
    "## Алгоритм преобразования"
   ]
  },
  {
   "cell_type": "markdown",
   "id": "3aa25c5c",
   "metadata": {},
   "source": [
    "**Алгоритм**\n",
    "\n",
    "Шаг 1. Создание рандомной матрицы и её проверка на обратимость.\n",
    "\n",
    "Шаг 2. Перемножение признаков на полученную матрицу.\n",
    "\n",
    "Шаг 3. Применение матричных операции.\n",
    "\n",
    "Шаг 4. Проверка метрики качетсва модели до и после преобразования."
   ]
  },
  {
   "cell_type": "markdown",
   "id": "e9d94c46",
   "metadata": {},
   "source": [
    "## Проверка алгоритма"
   ]
  },
  {
   "cell_type": "markdown",
   "id": "f7c46b16",
   "metadata": {},
   "source": [
    "**Шаг 1. Создание рандомной матрицы и её проверка на обратимость**"
   ]
  },
  {
   "cell_type": "code",
   "execution_count": 21,
   "id": "1d87b2f1",
   "metadata": {},
   "outputs": [
    {
     "data": {
      "text/plain": [
       "array([[0.65696533, 0.69570727, 0.2599879 , 0.4633451 ],\n",
       "       [0.83422553, 0.93781219, 0.26883593, 0.5293603 ],\n",
       "       [0.14100496, 0.66481102, 0.71209438, 0.09595534],\n",
       "       [0.26913511, 0.08835338, 0.04924638, 0.78224496]])"
      ]
     },
     "execution_count": 21,
     "metadata": {},
     "output_type": "execute_result"
    }
   ],
   "source": [
    "random_matrix = np.random.rand(4,4)\n",
    "random_matrix"
   ]
  },
  {
   "cell_type": "code",
   "execution_count": 22,
   "id": "a5926705",
   "metadata": {},
   "outputs": [
    {
     "data": {
      "text/plain": [
       "array([[ 16.34424731, -10.64002417,  -1.79407591,  -2.26076156],\n",
       "       [-15.25918467,  11.44907237,   1.16949038,   1.14716648],\n",
       "       [ 11.63376764,  -8.97716229,   0.60750216,  -0.8904998 ],\n",
       "       [ -4.63222067,   2.93275476,   0.44692281,   1.98268862]])"
      ]
     },
     "execution_count": 22,
     "metadata": {},
     "output_type": "execute_result"
    }
   ],
   "source": [
    "np.linalg.inv(random_matrix)"
   ]
  },
  {
   "cell_type": "markdown",
   "id": "2cd935d6",
   "metadata": {},
   "source": [
    "**Шаг 2. Перемножение признаков на полученную матрицу**"
   ]
  },
  {
   "cell_type": "markdown",
   "id": "2e40ece7",
   "metadata": {},
   "source": [
    "**Признаки тренировочных данных**"
   ]
  },
  {
   "cell_type": "code",
   "execution_count": 23,
   "id": "1ddfdd02",
   "metadata": {},
   "outputs": [
    {
     "data": {
      "text/html": [
       "<div>\n",
       "<style scoped>\n",
       "    .dataframe tbody tr th:only-of-type {\n",
       "        vertical-align: middle;\n",
       "    }\n",
       "\n",
       "    .dataframe tbody tr th {\n",
       "        vertical-align: top;\n",
       "    }\n",
       "\n",
       "    .dataframe thead th {\n",
       "        text-align: right;\n",
       "    }\n",
       "</style>\n",
       "<table border=\"1\" class=\"dataframe\">\n",
       "  <thead>\n",
       "    <tr style=\"text-align: right;\">\n",
       "      <th></th>\n",
       "      <th>0</th>\n",
       "      <th>1</th>\n",
       "      <th>2</th>\n",
       "      <th>3</th>\n",
       "    </tr>\n",
       "  </thead>\n",
       "  <tbody>\n",
       "    <tr>\n",
       "      <th>4954</th>\n",
       "      <td>4374.006881</td>\n",
       "      <td>20561.505194</td>\n",
       "      <td>22009.142355</td>\n",
       "      <td>2976.389611</td>\n",
       "    </tr>\n",
       "    <tr>\n",
       "      <th>1992</th>\n",
       "      <td>3299.382763</td>\n",
       "      <td>15454.740232</td>\n",
       "      <td>16529.559731</td>\n",
       "      <td>2245.197383</td>\n",
       "    </tr>\n",
       "    <tr>\n",
       "      <th>610</th>\n",
       "      <td>4900.822458</td>\n",
       "      <td>23026.779099</td>\n",
       "      <td>24645.544981</td>\n",
       "      <td>3335.316779</td>\n",
       "    </tr>\n",
       "    <tr>\n",
       "      <th>3674</th>\n",
       "      <td>4223.623060</td>\n",
       "      <td>19734.432894</td>\n",
       "      <td>21094.115002</td>\n",
       "      <td>2871.973814</td>\n",
       "    </tr>\n",
       "    <tr>\n",
       "      <th>3522</th>\n",
       "      <td>4589.777322</td>\n",
       "      <td>21563.257037</td>\n",
       "      <td>23078.668506</td>\n",
       "      <td>3123.685660</td>\n",
       "    </tr>\n",
       "  </tbody>\n",
       "</table>\n",
       "</div>"
      ],
      "text/plain": [
       "                0             1             2            3\n",
       "4954  4374.006881  20561.505194  22009.142355  2976.389611\n",
       "1992  3299.382763  15454.740232  16529.559731  2245.197383\n",
       "610   4900.822458  23026.779099  24645.544981  3335.316779\n",
       "3674  4223.623060  19734.432894  21094.115002  2871.973814\n",
       "3522  4589.777322  21563.257037  23078.668506  3123.685660"
      ]
     },
     "execution_count": 23,
     "metadata": {},
     "output_type": "execute_result"
    }
   ],
   "source": [
    "ftr_rm = features_train @ random_matrix\n",
    "ftr_rm.head()"
   ]
  },
  {
   "cell_type": "markdown",
   "id": "29333a46",
   "metadata": {},
   "source": [
    "**Признаки тестовых данных**"
   ]
  },
  {
   "cell_type": "code",
   "execution_count": 24,
   "id": "ce8cd990",
   "metadata": {},
   "outputs": [
    {
     "data": {
      "text/html": [
       "<div>\n",
       "<style scoped>\n",
       "    .dataframe tbody tr th:only-of-type {\n",
       "        vertical-align: middle;\n",
       "    }\n",
       "\n",
       "    .dataframe tbody tr th {\n",
       "        vertical-align: top;\n",
       "    }\n",
       "\n",
       "    .dataframe thead th {\n",
       "        text-align: right;\n",
       "    }\n",
       "</style>\n",
       "<table border=\"1\" class=\"dataframe\">\n",
       "  <thead>\n",
       "    <tr style=\"text-align: right;\">\n",
       "      <th></th>\n",
       "      <th>0</th>\n",
       "      <th>1</th>\n",
       "      <th>2</th>\n",
       "      <th>3</th>\n",
       "    </tr>\n",
       "  </thead>\n",
       "  <tbody>\n",
       "    <tr>\n",
       "      <th>1812</th>\n",
       "      <td>6519.338540</td>\n",
       "      <td>30669.115715</td>\n",
       "      <td>32833.725369</td>\n",
       "      <td>4435.650676</td>\n",
       "    </tr>\n",
       "    <tr>\n",
       "      <th>193</th>\n",
       "      <td>6167.003403</td>\n",
       "      <td>29007.330264</td>\n",
       "      <td>31053.498263</td>\n",
       "      <td>4195.828328</td>\n",
       "    </tr>\n",
       "    <tr>\n",
       "      <th>4495</th>\n",
       "      <td>6078.579773</td>\n",
       "      <td>28553.304647</td>\n",
       "      <td>30558.307473</td>\n",
       "      <td>4135.794155</td>\n",
       "    </tr>\n",
       "    <tr>\n",
       "      <th>552</th>\n",
       "      <td>6761.161817</td>\n",
       "      <td>31801.500536</td>\n",
       "      <td>34044.881584</td>\n",
       "      <td>4600.681743</td>\n",
       "    </tr>\n",
       "    <tr>\n",
       "      <th>3027</th>\n",
       "      <td>4398.118084</td>\n",
       "      <td>20639.240043</td>\n",
       "      <td>22083.577825</td>\n",
       "      <td>2992.337469</td>\n",
       "    </tr>\n",
       "  </tbody>\n",
       "</table>\n",
       "</div>"
      ],
      "text/plain": [
       "                0             1             2            3\n",
       "1812  6519.338540  30669.115715  32833.725369  4435.650676\n",
       "193   6167.003403  29007.330264  31053.498263  4195.828328\n",
       "4495  6078.579773  28553.304647  30558.307473  4135.794155\n",
       "552   6761.161817  31801.500536  34044.881584  4600.681743\n",
       "3027  4398.118084  20639.240043  22083.577825  2992.337469"
      ]
     },
     "execution_count": 24,
     "metadata": {},
     "output_type": "execute_result"
    }
   ],
   "source": [
    "fts_rm = features_test @ random_matrix\n",
    "fts_rm.head()"
   ]
  },
  {
   "cell_type": "markdown",
   "id": "a7c1e53f",
   "metadata": {},
   "source": [
    "**Шаг 3. Применение матричной операции.**"
   ]
  },
  {
   "cell_type": "code",
   "execution_count": 25,
   "id": "6e7fb8bf",
   "metadata": {},
   "outputs": [],
   "source": [
    "class LinearReg:\n",
    "    def fit(self, train_features, train_target):\n",
    "        X = np.concatenate((np.ones((train_features.shape[0], 1)), train_features), axis=1)\n",
    "        y = train_target\n",
    "        w = np.linalg.inv(X.T.dot(X)).dot(X.T).dot(y)\n",
    "        self.w = w[1:]\n",
    "        self.w0 = w[0]\n",
    "\n",
    "    def predict(self, test_features):\n",
    "        return test_features.dot(self.w) + self.w0"
   ]
  },
  {
   "cell_type": "markdown",
   "id": "210f43b1",
   "metadata": {},
   "source": [
    "**Шаг 4. Проверка метрики качетсва модели до и после преобразования.**"
   ]
  },
  {
   "cell_type": "code",
   "execution_count": 26,
   "id": "87bb9399",
   "metadata": {},
   "outputs": [
    {
     "name": "stdout",
     "output_type": "stream",
     "text": [
      "Качество матричной модели 0.41\n"
     ]
    }
   ],
   "source": [
    "model_m = LinearReg()\n",
    "model_m.fit(ftr_rm,target_train)\n",
    "predictions = model_m.predict(fts_rm)\n",
    "print('Качество матричной модели',round(r2_score(target_test, predictions),2))"
   ]
  },
  {
   "cell_type": "markdown",
   "id": "b8320c5d",
   "metadata": {},
   "source": [
    "**Вывод: ранее мы уже получали показание метрики модели до преобразования, она равнялась 0,41. После проведения повторного эксперимента результат не изменился, что доказывает гипотезу о получении равных по значению показателей до и после преобразования.**"
   ]
  }
 ],
 "metadata": {
  "kernelspec": {
   "display_name": "Python 3 (ipykernel)",
   "language": "python",
   "name": "python3"
  },
  "language_info": {
   "codemirror_mode": {
    "name": "ipython",
    "version": 3
   },
   "file_extension": ".py",
   "mimetype": "text/x-python",
   "name": "python",
   "nbconvert_exporter": "python",
   "pygments_lexer": "ipython3",
   "version": "3.9.13"
  }
 },
 "nbformat": 4,
 "nbformat_minor": 5
}
